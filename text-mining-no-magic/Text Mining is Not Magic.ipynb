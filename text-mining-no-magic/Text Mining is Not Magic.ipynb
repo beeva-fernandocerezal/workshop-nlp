{
 "cells": [
  {
   "cell_type": "markdown",
   "metadata": {},
   "source": [
    "# Limpieza de datos y preprocesado de textos"
   ]
  },
  {
   "cell_type": "code",
   "execution_count": 1,
   "metadata": {
    "collapsed": false
   },
   "outputs": [
    {
     "data": {
      "text/plain": [
       "'bajo mi modesta opinion me resulta una pelicula casi documental a cerca de los acontecimientos sucedidos en la casa real inglesa a tenor de la muerte de lady di y muy especialmente visto desde el punto de vista de la riena isabel de inglaterra la pelicula es entretenida e interesante sobre todo por lo reciente de los acontecimientos pero cuando termino mi sensacion fue mas la de una intencion por parte del creador de la pelicula de reconciliar la opinion publica con la imagen de la monarquia francamente lo tomare como una vision romantica de lo que pudo pasar por la mente de la monarca tras la muerte de lady di y no como lo que realmente sucediera en cualquier caso me quedo con la excepcional interpretacion de helen mirren actriz que me era completamente desconocida hasta esta pelicula asi como el parecido fisico de la reina es asombroso queda muy lejos el reflejo del principe carlos en el actor que lo interpreta alex jennings de espaldas si que da el pego pero visto de cara creo que mejora demasiado lo presente'"
      ]
     },
     "execution_count": 1,
     "metadata": {},
     "output_type": "execute_result"
    }
   ],
   "source": [
    "from bs4 import BeautifulSoup\n",
    "import pandas as pd\n",
    "import re\n",
    "import unicodedata,string\n",
    "\n",
    "PATH=\"/home/enriqueotero/datasets/nlp/corpusCriticasCine/\"\n",
    "\n",
    "def clean(x):\n",
    "   x = unicodedata.normalize('NFKD', x).encode('ascii','ignore').lower()\n",
    "   replace_punctuation = string.maketrans(string.punctuation, ' '*len(string.punctuation))\n",
    "   x = x.translate(replace_punctuation)\n",
    "   x = re.sub('@%$&[\\n/:!,;)()_?¿¡<>]', ' ', x)\n",
    "   x = re.sub(' - ', ' ', x)\n",
    "   x = re.sub(' +',' ', x).strip()\n",
    "   return x\n",
    "\n",
    "def parseFile(filename):\n",
    "    \n",
    "    try:\n",
    "        data = open(filename,'r').read()\n",
    "        soup = BeautifulSoup(data, \"html.parser\")  \n",
    "        review_text = soup.body.get_text()\n",
    "        letters_only = clean(review_text)\n",
    "        #letters_only = re.sub(\"[^a-zA-Z]\", \" \", review_text) \n",
    "\n",
    "        result = letters_only\n",
    "\n",
    "    except:\n",
    "        result = \"\"\n",
    "        \n",
    "    return result\n",
    "\n",
    "parseFile(PATH + str(999) + \".xml\")"
   ]
  },
  {
   "cell_type": "code",
   "execution_count": 2,
   "metadata": {
    "collapsed": false
   },
   "outputs": [
    {
     "data": {
      "text/html": [
       "<div>\n",
       "<table border=\"1\" class=\"dataframe\">\n",
       "  <thead>\n",
       "    <tr style=\"text-align: right;\">\n",
       "      <th></th>\n",
       "      <th>id</th>\n",
       "      <th>text</th>\n",
       "    </tr>\n",
       "  </thead>\n",
       "  <tbody>\n",
       "    <tr>\n",
       "      <th>0</th>\n",
       "      <td>24</td>\n",
       "      <td>la ultima pelicula de sam mendes ganador del o...</td>\n",
       "    </tr>\n",
       "    <tr>\n",
       "      <th>1</th>\n",
       "      <td>25</td>\n",
       "      <td>el cine asiatico se ha convertido ya en lo que...</td>\n",
       "    </tr>\n",
       "    <tr>\n",
       "      <th>2</th>\n",
       "      <td>26</td>\n",
       "      <td>por fin he podido ver brokeback mountain la la...</td>\n",
       "    </tr>\n",
       "    <tr>\n",
       "      <th>3</th>\n",
       "      <td>27</td>\n",
       "      <td></td>\n",
       "    </tr>\n",
       "    <tr>\n",
       "      <th>4</th>\n",
       "      <td>20</td>\n",
       "      <td></td>\n",
       "    </tr>\n",
       "  </tbody>\n",
       "</table>\n",
       "</div>"
      ],
      "text/plain": [
       "   id                                               text\n",
       "0  24  la ultima pelicula de sam mendes ganador del o...\n",
       "1  25  el cine asiatico se ha convertido ya en lo que...\n",
       "2  26  por fin he podido ver brokeback mountain la la...\n",
       "3  27                                                   \n",
       "4  20                                                   "
      ]
     },
     "execution_count": 2,
     "metadata": {},
     "output_type": "execute_result"
    }
   ],
   "source": [
    "N_DOCS = 100\n",
    "mydict = {\"%i\"%i:parseFile(PATH+str(i+1)+\".xml\") for i in range(N_DOCS)}\n",
    "df = pd.DataFrame(data=mydict.items(), columns=['id', 'text'])\n",
    "df.head()"
   ]
  },
  {
   "cell_type": "code",
   "execution_count": 3,
   "metadata": {
    "collapsed": true
   },
   "outputs": [],
   "source": [
    "df.to_csv(PATH+\"clean_reviews.csv\", index=False)"
   ]
  },
  {
   "cell_type": "markdown",
   "metadata": {},
   "source": [
    "# Bag of Words"
   ]
  },
  {
   "cell_type": "markdown",
   "metadata": {},
   "source": [
    "# TF-IDF"
   ]
  },
  {
   "cell_type": "code",
   "execution_count": 4,
   "metadata": {
    "collapsed": false
   },
   "outputs": [],
   "source": [
    "#corpus = ['This is the first document.','This is the second second document.','And the third one.','Is this the first document?']\n",
    "corpus = df[\"text\"].tolist()"
   ]
  },
  {
   "cell_type": "code",
   "execution_count": 5,
   "metadata": {
    "collapsed": false
   },
   "outputs": [],
   "source": [
    "from sklearn.feature_extraction.text import TfidfVectorizer\n",
    "#vectorizer = TfidfVectorizer(analyzer=u'word', use_idf=True, max_df=0.3, lowercase=False)\n",
    "vectorizer = TfidfVectorizer(analyzer=u'word', use_idf=True)\n",
    "tfidf_matrix = vectorizer.fit_transform(corpus)"
   ]
  },
  {
   "cell_type": "code",
   "execution_count": 6,
   "metadata": {
    "collapsed": true
   },
   "outputs": [],
   "source": [
    "import operator\n",
    "import numpy as np\n",
    "\n",
    "def getDictOfKeywords(idx, top_n, tfidf_matrix, vectorizer):\n",
    "    indices = np.argsort(tfidf_matrix[idx:idx+1].toarray().flatten())[::-1]\n",
    "    features = vectorizer.get_feature_names()\n",
    "    top_features = {features[i]:tfidf_matrix[idx:idx+1].toarray().flatten()[i] for i in indices[:top_n]}\n",
    "    return top_features \n",
    "\n",
    "def firstkeywords(keywords, N):\n",
    "    keywordlist = sorted(keywords.items(), key=operator.itemgetter(1), reverse=True)\n",
    "    return map(lambda x: x[0],keywordlist[0:N])"
   ]
  },
  {
   "cell_type": "markdown",
   "metadata": {},
   "source": [
    "# Extracción de palabras clave"
   ]
  },
  {
   "cell_type": "code",
   "execution_count": 8,
   "metadata": {
    "collapsed": false
   },
   "outputs": [
    {
     "name": "stdout",
     "output_type": "stream",
     "text": [
      "[u'enamoro', u'en', u'encajan', u'enamora', u'encantan', u'enamorados', u'enamoramiento', u'zurra', u'encadenado', u'enamorado']\n"
     ]
    }
   ],
   "source": [
    "N_KEYWORDS = 10\n",
    "dictkeywords = getDictOfKeywords(3, N_KEYWORDS, tfidf_matrix, vectorizer)\n",
    "keywords = firstkeywords(dictkeywords,N_KEYWORDS)\n",
    "print keywords"
   ]
  },
  {
   "cell_type": "code",
   "execution_count": null,
   "metadata": {
    "collapsed": true
   },
   "outputs": [],
   "source": []
  }
 ],
 "metadata": {
  "kernelspec": {
   "display_name": "workshop-nlp",
   "language": "python",
   "name": "workshop-nlp"
  },
  "language_info": {
   "codemirror_mode": {
    "name": "ipython",
    "version": 2
   },
   "file_extension": ".py",
   "mimetype": "text/x-python",
   "name": "python",
   "nbconvert_exporter": "python",
   "pygments_lexer": "ipython2",
   "version": "2.7.12"
  }
 },
 "nbformat": 4,
 "nbformat_minor": 1
}
