{
 "cells": [
  {
   "cell_type": "markdown",
   "metadata": {},
   "source": [
    "# Limpieza de datos y preprocesado de textos"
   ]
  },
  {
   "cell_type": "code",
   "execution_count": 1,
   "metadata": {
    "collapsed": false
   },
   "outputs": [
    {
     "data": {
      "text/plain": [
       "'bajo mi modesta opinion me resulta una pelicula casi documental a cerca de los acontecimientos sucedidos en la casa real inglesa a tenor de la muerte de lady di y muy especialmente visto desde el punto de vista de la riena isabel de inglaterra la pelicula es entretenida e interesante sobre todo por lo reciente de los acontecimientos pero cuando termino mi sensacion fue mas la de una intencion por parte del creador de la pelicula de reconciliar la opinion publica con la imagen de la monarquia francamente lo tomare como una vision romantica de lo que pudo pasar por la mente de la monarca tras la muerte de lady di y no como lo que realmente sucediera en cualquier caso me quedo con la excepcional interpretacion de helen mirren actriz que me era completamente desconocida hasta esta pelicula asi como el parecido fisico de la reina es asombroso queda muy lejos el reflejo del principe carlos en el actor que lo interpreta alex jennings de espaldas si que da el pego pero visto de cara creo que mejora demasiado lo presente'"
      ]
     },
     "execution_count": 1,
     "metadata": {},
     "output_type": "execute_result"
    }
   ],
   "source": [
    "from bs4 import BeautifulSoup\n",
    "import pandas as pd\n",
    "import re\n",
    "import unicodedata,string\n",
    "\n",
    "PATH=\"/home/enriqueotero/datasets/nlp/corpusCriticasCine/\"\n",
    "\n",
    "def clean(x):\n",
    "   x = unicodedata.normalize('NFKD', x).encode('ascii','ignore').lower()\n",
    "   replace_punctuation = string.maketrans(string.punctuation, ' '*len(string.punctuation))\n",
    "   x = x.translate(replace_punctuation)\n",
    "   x = re.sub('@%$&[\\n/:!,;)()_?¿¡<>]', ' ', x)\n",
    "   x = re.sub(' - ', ' ', x)\n",
    "   x = re.sub(' +',' ', x).strip()\n",
    "   return x\n",
    "\n",
    "def parseFile(filename):\n",
    "    \n",
    "    try:\n",
    "        data = open(filename,'r').read()\n",
    "        soup = BeautifulSoup(data, \"html.parser\")  \n",
    "        review_text = soup.body.get_text()\n",
    "        letters_only = clean(review_text)\n",
    "        #letters_only = re.sub(\"[^a-zA-Z]\", \" \", review_text) \n",
    "\n",
    "        result = letters_only\n",
    "\n",
    "    except:\n",
    "        result = \"\"\n",
    "        \n",
    "    return result\n",
    "\n",
    "parseFile(PATH + str(999) + \".xml\")"
   ]
  },
  {
   "cell_type": "code",
   "execution_count": 2,
   "metadata": {
    "collapsed": false
   },
   "outputs": [],
   "source": [
    "N_DOCS = 1000\n",
    "mydict = {i:parseFile(PATH+str(i)+\".xml\") for i in range(N_DOCS)}\n",
    "df = pd.DataFrame(data=mydict.items(), columns=['id', 'text'])\n",
    "df = df[df[\"text\"] != \"\"].dropna()\n",
    "df.head()\n",
    "df.to_csv(PATH+\"clean_reviews.csv\", index=False)"
   ]
  },
  {
   "cell_type": "markdown",
   "metadata": {},
   "source": [
    "# Representación Bag of Words con TF-IDF"
   ]
  },
  {
   "cell_type": "code",
   "execution_count": 3,
   "metadata": {
    "collapsed": false
   },
   "outputs": [],
   "source": [
    "#corpus = ['This is the first document.','This is the second second document.','And the third one.','Is this the first document?']\n",
    "corpus = df[\"text\"].tolist()"
   ]
  },
  {
   "cell_type": "code",
   "execution_count": 4,
   "metadata": {
    "collapsed": false
   },
   "outputs": [],
   "source": [
    "from sklearn.feature_extraction.text import TfidfVectorizer\n",
    "vectorizer = TfidfVectorizer(analyzer=u'word', use_idf=True, max_df=0.3, lowercase=False)\n",
    "#vectorizer = TfidfVectorizer(analyzer=u'word', use_idf=True)\n",
    "tfidf_matrix = vectorizer.fit_transform(corpus)\n",
    "features = vectorizer.get_feature_names()"
   ]
  },
  {
   "cell_type": "markdown",
   "metadata": {},
   "source": [
    "# Extracción de palabras clave"
   ]
  },
  {
   "cell_type": "code",
   "execution_count": 5,
   "metadata": {
    "collapsed": false
   },
   "outputs": [
    {
     "name": "stdout",
     "output_type": "stream",
     "text": [
      "[u'jedi', u'jedis', u'rollo', u'anaquino', u'palpatino', u'katana', u'jedai', u'samurais', u'peinado', u'batallitas']\n"
     ]
    }
   ],
   "source": [
    "import operator\n",
    "import numpy as np\n",
    "\n",
    "def getKeywords(myvector, top_n, features):\n",
    "    myweights = myvector.toarray().flatten()\n",
    "    indices = np.argsort(myweights)[::-1]\n",
    "    top_features = [features[i] for i in indices[:top_n]]\n",
    "    return top_features \n",
    "\n",
    "N_KEYWORDS = 10\n",
    "def keywords(myid):\n",
    "    return getKeywords(tfidf_matrix[myid:myid+1], N_KEYWORDS, features)\n",
    "\n",
    "print keywords(1)"
   ]
  },
  {
   "cell_type": "code",
   "execution_count": 6,
   "metadata": {
    "collapsed": false
   },
   "outputs": [],
   "source": [
    "df[\"keywords\"] = map(keywords, range(len(df)))"
   ]
  },
  {
   "cell_type": "code",
   "execution_count": 7,
   "metadata": {
    "collapsed": false
   },
   "outputs": [
    {
     "data": {
      "text/html": [
       "<div>\n",
       "<table border=\"1\" class=\"dataframe\">\n",
       "  <thead>\n",
       "    <tr style=\"text-align: right;\">\n",
       "      <th></th>\n",
       "      <th>id</th>\n",
       "      <th>text</th>\n",
       "      <th>keywords</th>\n",
       "    </tr>\n",
       "  </thead>\n",
       "  <tbody>\n",
       "    <tr>\n",
       "      <th>2</th>\n",
       "      <td>2</td>\n",
       "      <td>cada vez me gusta menos el cine de masas las p...</td>\n",
       "      <td>[peli, puta, chorradas, cruise, vieja, huir, o...</td>\n",
       "    </tr>\n",
       "    <tr>\n",
       "      <th>3</th>\n",
       "      <td>3</td>\n",
       "      <td>el otro dia fui a ver la de los sioux como dec...</td>\n",
       "      <td>[jedi, jedis, rollo, anaquino, palpatino, kata...</td>\n",
       "    </tr>\n",
       "    <tr>\n",
       "      <th>4</th>\n",
       "      <td>4</td>\n",
       "      <td>es que no la cagan en ninguna todas las pelis ...</td>\n",
       "      <td>[pelis, yankis, madre, repetirse, pa, hacen, c...</td>\n",
       "    </tr>\n",
       "    <tr>\n",
       "      <th>5</th>\n",
       "      <td>5</td>\n",
       "      <td>es un dolor esto del cine yo ya voy con miedo ...</td>\n",
       "      <td>[spiderman, tele, peli, puta, mico, pastora, v...</td>\n",
       "    </tr>\n",
       "    <tr>\n",
       "      <th>6</th>\n",
       "      <td>6</td>\n",
       "      <td>tras una insufrible primera media hora la casa...</td>\n",
       "      <td>[cera, acojonante, peli, risa, gore, casa, com...</td>\n",
       "    </tr>\n",
       "  </tbody>\n",
       "</table>\n",
       "</div>"
      ],
      "text/plain": [
       "   id                                               text  \\\n",
       "2   2  cada vez me gusta menos el cine de masas las p...   \n",
       "3   3  el otro dia fui a ver la de los sioux como dec...   \n",
       "4   4  es que no la cagan en ninguna todas las pelis ...   \n",
       "5   5  es un dolor esto del cine yo ya voy con miedo ...   \n",
       "6   6  tras una insufrible primera media hora la casa...   \n",
       "\n",
       "                                            keywords  \n",
       "2  [peli, puta, chorradas, cruise, vieja, huir, o...  \n",
       "3  [jedi, jedis, rollo, anaquino, palpatino, kata...  \n",
       "4  [pelis, yankis, madre, repetirse, pa, hacen, c...  \n",
       "5  [spiderman, tele, peli, puta, mico, pastora, v...  \n",
       "6  [cera, acojonante, peli, risa, gore, casa, com...  "
      ]
     },
     "execution_count": 7,
     "metadata": {},
     "output_type": "execute_result"
    }
   ],
   "source": [
    "df.head()"
   ]
  },
  {
   "cell_type": "markdown",
   "metadata": {
    "collapsed": true
   },
   "source": [
    "# Clustering"
   ]
  },
  {
   "cell_type": "code",
   "execution_count": 13,
   "metadata": {
    "collapsed": false
   },
   "outputs": [
    {
     "name": "stdout",
     "output_type": "stream",
     "text": [
      "CPU times: user 16.7 s, sys: 36 ms, total: 16.7 s\n",
      "Wall time: 16.7 s\n"
     ]
    }
   ],
   "source": [
    "from sklearn.cluster import KMeans\n",
    "\n",
    "num_clusters = 100\n",
    "clustering = KMeans(n_clusters=num_clusters)\n",
    "%time clustering.fit(tfidf_matrix)\n",
    "\n",
    "clusters = clustering.labels_.tolist()"
   ]
  },
  {
   "cell_type": "code",
   "execution_count": 14,
   "metadata": {
    "collapsed": false
   },
   "outputs": [
    {
     "data": {
      "text/html": [
       "<div>\n",
       "<table border=\"1\" class=\"dataframe\">\n",
       "  <thead>\n",
       "    <tr style=\"text-align: right;\">\n",
       "      <th></th>\n",
       "      <th>id</th>\n",
       "      <th>text</th>\n",
       "      <th>keywords</th>\n",
       "      <th>cluster</th>\n",
       "    </tr>\n",
       "  </thead>\n",
       "  <tbody>\n",
       "    <tr>\n",
       "      <th>2</th>\n",
       "      <td>2</td>\n",
       "      <td>cada vez me gusta menos el cine de masas las p...</td>\n",
       "      <td>[peli, puta, chorradas, cruise, vieja, huir, o...</td>\n",
       "      <td>44</td>\n",
       "    </tr>\n",
       "    <tr>\n",
       "      <th>3</th>\n",
       "      <td>3</td>\n",
       "      <td>el otro dia fui a ver la de los sioux como dec...</td>\n",
       "      <td>[jedi, jedis, rollo, anaquino, palpatino, kata...</td>\n",
       "      <td>64</td>\n",
       "    </tr>\n",
       "    <tr>\n",
       "      <th>4</th>\n",
       "      <td>4</td>\n",
       "      <td>es que no la cagan en ninguna todas las pelis ...</td>\n",
       "      <td>[pelis, yankis, madre, repetirse, pa, hacen, c...</td>\n",
       "      <td>44</td>\n",
       "    </tr>\n",
       "    <tr>\n",
       "      <th>5</th>\n",
       "      <td>5</td>\n",
       "      <td>es un dolor esto del cine yo ya voy con miedo ...</td>\n",
       "      <td>[spiderman, tele, peli, puta, mico, pastora, v...</td>\n",
       "      <td>44</td>\n",
       "    </tr>\n",
       "    <tr>\n",
       "      <th>6</th>\n",
       "      <td>6</td>\n",
       "      <td>tras una insufrible primera media hora la casa...</td>\n",
       "      <td>[cera, acojonante, peli, risa, gore, casa, com...</td>\n",
       "      <td>64</td>\n",
       "    </tr>\n",
       "  </tbody>\n",
       "</table>\n",
       "</div>"
      ],
      "text/plain": [
       "   id                                               text  \\\n",
       "2   2  cada vez me gusta menos el cine de masas las p...   \n",
       "3   3  el otro dia fui a ver la de los sioux como dec...   \n",
       "4   4  es que no la cagan en ninguna todas las pelis ...   \n",
       "5   5  es un dolor esto del cine yo ya voy con miedo ...   \n",
       "6   6  tras una insufrible primera media hora la casa...   \n",
       "\n",
       "                                            keywords  cluster  \n",
       "2  [peli, puta, chorradas, cruise, vieja, huir, o...       44  \n",
       "3  [jedi, jedis, rollo, anaquino, palpatino, kata...       64  \n",
       "4  [pelis, yankis, madre, repetirse, pa, hacen, c...       44  \n",
       "5  [spiderman, tele, peli, puta, mico, pastora, v...       44  \n",
       "6  [cera, acojonante, peli, risa, gore, casa, com...       64  "
      ]
     },
     "execution_count": 14,
     "metadata": {},
     "output_type": "execute_result"
    }
   ],
   "source": [
    "df[\"cluster\"] = clusters\n",
    "df.head()"
   ]
  },
  {
   "cell_type": "code",
   "execution_count": 15,
   "metadata": {
    "collapsed": false
   },
   "outputs": [
    {
     "data": {
      "text/html": [
       "<div>\n",
       "<table border=\"1\" class=\"dataframe\">\n",
       "  <thead>\n",
       "    <tr style=\"text-align: right;\">\n",
       "      <th></th>\n",
       "      <th>id</th>\n",
       "      <th>text</th>\n",
       "      <th>keywords</th>\n",
       "      <th>cluster</th>\n",
       "    </tr>\n",
       "  </thead>\n",
       "  <tbody>\n",
       "    <tr>\n",
       "      <th>153</th>\n",
       "      <td>153</td>\n",
       "      <td>el argumento de 16 calles es impecable para te...</td>\n",
       "      <td>[muchacho, detective, pregunta, delincuente, w...</td>\n",
       "      <td>4</td>\n",
       "    </tr>\n",
       "    <tr>\n",
       "      <th>402</th>\n",
       "      <td>402</td>\n",
       "      <td>en los anos ochenta fueron pocos los que se re...</td>\n",
       "      <td>[jonson, don, policias, motivaron, aclarar, fa...</td>\n",
       "      <td>4</td>\n",
       "    </tr>\n",
       "    <tr>\n",
       "      <th>408</th>\n",
       "      <td>408</td>\n",
       "      <td>hubiese preferido que michael mann artifice de...</td>\n",
       "      <td>[miami, mann, farrel, forrados, corrupcion, na...</td>\n",
       "      <td>4</td>\n",
       "    </tr>\n",
       "    <tr>\n",
       "      <th>409</th>\n",
       "      <td>409</td>\n",
       "      <td>la esperada y deseada adaptacion al cine de la...</td>\n",
       "      <td>[vice, tosar, miami, policias, tubbs, sonny, e...</td>\n",
       "      <td>4</td>\n",
       "    </tr>\n",
       "    <tr>\n",
       "      <th>417</th>\n",
       "      <td>417</td>\n",
       "      <td>desde que el atraco protagonizado por de niro ...</td>\n",
       "      <td>[miami, mann, vice, sonny, collateral, corrupc...</td>\n",
       "      <td>4</td>\n",
       "    </tr>\n",
       "    <tr>\n",
       "      <th>426</th>\n",
       "      <td>426</td>\n",
       "      <td>esta ola de revivalismo que nos recorre tiene ...</td>\n",
       "      <td>[miami, vice, caja, mann, tiros, lanchas, pand...</td>\n",
       "      <td>4</td>\n",
       "    </tr>\n",
       "    <tr>\n",
       "      <th>434</th>\n",
       "      <td>434</td>\n",
       "      <td>dirigida por michael mann esa simple frase ya ...</td>\n",
       "      <td>[mann, miami, corrupcion, sonny, farrell, foxx...</td>\n",
       "      <td>4</td>\n",
       "    </tr>\n",
       "    <tr>\n",
       "      <th>439</th>\n",
       "      <td>439</td>\n",
       "      <td>corrupcion en miami empieza con el final de ot...</td>\n",
       "      <td>[coopera, nash, miami, mann, traficantes, estr...</td>\n",
       "      <td>4</td>\n",
       "    </tr>\n",
       "    <tr>\n",
       "      <th>447</th>\n",
       "      <td>447</td>\n",
       "      <td>hace poco que leia una noticia en la que una w...</td>\n",
       "      <td>[miami, vice, tosar, tecnicamente, mann, luis,...</td>\n",
       "      <td>4</td>\n",
       "    </tr>\n",
       "    <tr>\n",
       "      <th>491</th>\n",
       "      <td>491</td>\n",
       "      <td>michael mann se encarga de llevar a la gran pa...</td>\n",
       "      <td>[mann, sonny, collateral, miami, crockett, int...</td>\n",
       "      <td>4</td>\n",
       "    </tr>\n",
       "    <tr>\n",
       "      <th>525</th>\n",
       "      <td>525</td>\n",
       "      <td>no se donde escuche o lei que la manera en la ...</td>\n",
       "      <td>[mann, miami, sonny, collateral, guiones, chiv...</td>\n",
       "      <td>4</td>\n",
       "    </tr>\n",
       "    <tr>\n",
       "      <th>547</th>\n",
       "      <td>547</td>\n",
       "      <td>aunque la seguia con asiduidad lo cierto es qu...</td>\n",
       "      <td>[miami, mann, corrupcion, fui, serie, estar, m...</td>\n",
       "      <td>4</td>\n",
       "    </tr>\n",
       "    <tr>\n",
       "      <th>628</th>\n",
       "      <td>628</td>\n",
       "      <td>michael mann ya fue productor y creador de la ...</td>\n",
       "      <td>[mann, serie, heat, collateral, farrell, adapt...</td>\n",
       "      <td>4</td>\n",
       "    </tr>\n",
       "    <tr>\n",
       "      <th>670</th>\n",
       "      <td>670</td>\n",
       "      <td>adaptacion a la gran pantalla de la serie miam...</td>\n",
       "      <td>[acompanar, mania, mann, phill, descataria, lu...</td>\n",
       "      <td>4</td>\n",
       "    </tr>\n",
       "  </tbody>\n",
       "</table>\n",
       "</div>"
      ],
      "text/plain": [
       "      id                                               text  \\\n",
       "153  153  el argumento de 16 calles es impecable para te...   \n",
       "402  402  en los anos ochenta fueron pocos los que se re...   \n",
       "408  408  hubiese preferido que michael mann artifice de...   \n",
       "409  409  la esperada y deseada adaptacion al cine de la...   \n",
       "417  417  desde que el atraco protagonizado por de niro ...   \n",
       "426  426  esta ola de revivalismo que nos recorre tiene ...   \n",
       "434  434  dirigida por michael mann esa simple frase ya ...   \n",
       "439  439  corrupcion en miami empieza con el final de ot...   \n",
       "447  447  hace poco que leia una noticia en la que una w...   \n",
       "491  491  michael mann se encarga de llevar a la gran pa...   \n",
       "525  525  no se donde escuche o lei que la manera en la ...   \n",
       "547  547  aunque la seguia con asiduidad lo cierto es qu...   \n",
       "628  628  michael mann ya fue productor y creador de la ...   \n",
       "670  670  adaptacion a la gran pantalla de la serie miam...   \n",
       "\n",
       "                                              keywords  cluster  \n",
       "153  [muchacho, detective, pregunta, delincuente, w...        4  \n",
       "402  [jonson, don, policias, motivaron, aclarar, fa...        4  \n",
       "408  [miami, mann, farrel, forrados, corrupcion, na...        4  \n",
       "409  [vice, tosar, miami, policias, tubbs, sonny, e...        4  \n",
       "417  [miami, mann, vice, sonny, collateral, corrupc...        4  \n",
       "426  [miami, vice, caja, mann, tiros, lanchas, pand...        4  \n",
       "434  [mann, miami, corrupcion, sonny, farrell, foxx...        4  \n",
       "439  [coopera, nash, miami, mann, traficantes, estr...        4  \n",
       "447  [miami, vice, tosar, tecnicamente, mann, luis,...        4  \n",
       "491  [mann, sonny, collateral, miami, crockett, int...        4  \n",
       "525  [mann, miami, sonny, collateral, guiones, chiv...        4  \n",
       "547  [miami, mann, corrupcion, fui, serie, estar, m...        4  \n",
       "628  [mann, serie, heat, collateral, farrell, adapt...        4  \n",
       "670  [acompanar, mania, mann, phill, descataria, lu...        4  "
      ]
     },
     "execution_count": 15,
     "metadata": {},
     "output_type": "execute_result"
    }
   ],
   "source": [
    "df[df[\"cluster\"] == 4]"
   ]
  },
  {
   "cell_type": "code",
   "execution_count": 17,
   "metadata": {
    "collapsed": false
   },
   "outputs": [
    {
     "data": {
      "text/html": [
       "<div>\n",
       "<table border=\"1\" class=\"dataframe\">\n",
       "  <thead>\n",
       "    <tr style=\"text-align: right;\">\n",
       "      <th></th>\n",
       "      <th>id</th>\n",
       "      <th>text</th>\n",
       "      <th>keywords</th>\n",
       "      <th>cluster</th>\n",
       "    </tr>\n",
       "  </thead>\n",
       "  <tbody>\n",
       "    <tr>\n",
       "      <th>357</th>\n",
       "      <td>357</td>\n",
       "      <td>en los creditos finales el film es dedicado a ...</td>\n",
       "      <td>[avion, greengrass, secuestrados, vuelo, pasaj...</td>\n",
       "      <td>0</td>\n",
       "    </tr>\n",
       "    <tr>\n",
       "      <th>360</th>\n",
       "      <td>360</td>\n",
       "      <td>cinco anos desde el 11 de septiembre aquella f...</td>\n",
       "      <td>[aquel, echos, 93, victimas, aviones, greengra...</td>\n",
       "      <td>0</td>\n",
       "    </tr>\n",
       "    <tr>\n",
       "      <th>364</th>\n",
       "      <td>364</td>\n",
       "      <td>la maquinaria de hollywood no tiene piedad con...</td>\n",
       "      <td>[greengrass, americano, trade, center, 93, uni...</td>\n",
       "      <td>0</td>\n",
       "    </tr>\n",
       "    <tr>\n",
       "      <th>372</th>\n",
       "      <td>372</td>\n",
       "      <td>el cine de spielberg representa justo lo contr...</td>\n",
       "      <td>[elegido, autor, greengrass, sabe, spielberg, ...</td>\n",
       "      <td>0</td>\n",
       "    </tr>\n",
       "    <tr>\n",
       "      <th>387</th>\n",
       "      <td>387</td>\n",
       "      <td>cuando termina la pelicula uno se queda callad...</td>\n",
       "      <td>[perdimos, greengrass, cinta, 11, vaya, sienes...</td>\n",
       "      <td>0</td>\n",
       "    </tr>\n",
       "    <tr>\n",
       "      <th>394</th>\n",
       "      <td>394</td>\n",
       "      <td>suele ocurrir que cuando alguien pone las expe...</td>\n",
       "      <td>[avion, interior, lleves, cubra, forzosa, te, ...</td>\n",
       "      <td>0</td>\n",
       "    </tr>\n",
       "    <tr>\n",
       "      <th>403</th>\n",
       "      <td>403</td>\n",
       "      <td>es de una dificultad extrema recuperar a trave...</td>\n",
       "      <td>[93, united, cnn, greengrass, objetivode, clin...</td>\n",
       "      <td>0</td>\n",
       "    </tr>\n",
       "    <tr>\n",
       "      <th>406</th>\n",
       "      <td>406</td>\n",
       "      <td>era necesario mucho coraje para abordar aconte...</td>\n",
       "      <td>[93, sucedio, greengrass, united, terroristas,...</td>\n",
       "      <td>0</td>\n",
       "    </tr>\n",
       "    <tr>\n",
       "      <th>428</th>\n",
       "      <td>428</td>\n",
       "      <td>hoy hace 5 anos de los terribles acontecimient...</td>\n",
       "      <td>[93, avion, despegue, united, mando, norad, ca...</td>\n",
       "      <td>0</td>\n",
       "    </tr>\n",
       "    <tr>\n",
       "      <th>429</th>\n",
       "      <td>429</td>\n",
       "      <td>estamos en los dias en los que se conmemora el...</td>\n",
       "      <td>[greengrass, pasajeros, tripulantes, 11, avion...</td>\n",
       "      <td>0</td>\n",
       "    </tr>\n",
       "    <tr>\n",
       "      <th>433</th>\n",
       "      <td>433</td>\n",
       "      <td>adaptar hechos reales al cine es conflictivo m...</td>\n",
       "      <td>[hechos, 11s, nuestra, basarse, greengrass, ad...</td>\n",
       "      <td>0</td>\n",
       "    </tr>\n",
       "    <tr>\n",
       "      <th>458</th>\n",
       "      <td>458</td>\n",
       "      <td>el 11 de septiembre del 2001 el mundo sufrio u...</td>\n",
       "      <td>[suceso, aun, victimas, fue, nuestros, sufrier...</td>\n",
       "      <td>0</td>\n",
       "    </tr>\n",
       "    <tr>\n",
       "      <th>575</th>\n",
       "      <td>575</td>\n",
       "      <td>para divertirse con serpientes en el avion hay...</td>\n",
       "      <td>[serpientes, divertirse, avion, piranas, taran...</td>\n",
       "      <td>0</td>\n",
       "    </tr>\n",
       "    <tr>\n",
       "      <th>652</th>\n",
       "      <td>652</td>\n",
       "      <td>el cine es una concentrado de emociones de un ...</td>\n",
       "      <td>[pasajeros, vuelo, united, militares, greengra...</td>\n",
       "      <td>0</td>\n",
       "    </tr>\n",
       "  </tbody>\n",
       "</table>\n",
       "</div>"
      ],
      "text/plain": [
       "      id                                               text  \\\n",
       "357  357  en los creditos finales el film es dedicado a ...   \n",
       "360  360  cinco anos desde el 11 de septiembre aquella f...   \n",
       "364  364  la maquinaria de hollywood no tiene piedad con...   \n",
       "372  372  el cine de spielberg representa justo lo contr...   \n",
       "387  387  cuando termina la pelicula uno se queda callad...   \n",
       "394  394  suele ocurrir que cuando alguien pone las expe...   \n",
       "403  403  es de una dificultad extrema recuperar a trave...   \n",
       "406  406  era necesario mucho coraje para abordar aconte...   \n",
       "428  428  hoy hace 5 anos de los terribles acontecimient...   \n",
       "429  429  estamos en los dias en los que se conmemora el...   \n",
       "433  433  adaptar hechos reales al cine es conflictivo m...   \n",
       "458  458  el 11 de septiembre del 2001 el mundo sufrio u...   \n",
       "575  575  para divertirse con serpientes en el avion hay...   \n",
       "652  652  el cine es una concentrado de emociones de un ...   \n",
       "\n",
       "                                              keywords  cluster  \n",
       "357  [avion, greengrass, secuestrados, vuelo, pasaj...        0  \n",
       "360  [aquel, echos, 93, victimas, aviones, greengra...        0  \n",
       "364  [greengrass, americano, trade, center, 93, uni...        0  \n",
       "372  [elegido, autor, greengrass, sabe, spielberg, ...        0  \n",
       "387  [perdimos, greengrass, cinta, 11, vaya, sienes...        0  \n",
       "394  [avion, interior, lleves, cubra, forzosa, te, ...        0  \n",
       "403  [93, united, cnn, greengrass, objetivode, clin...        0  \n",
       "406  [93, sucedio, greengrass, united, terroristas,...        0  \n",
       "428  [93, avion, despegue, united, mando, norad, ca...        0  \n",
       "429  [greengrass, pasajeros, tripulantes, 11, avion...        0  \n",
       "433  [hechos, 11s, nuestra, basarse, greengrass, ad...        0  \n",
       "458  [suceso, aun, victimas, fue, nuestros, sufrier...        0  \n",
       "575  [serpientes, divertirse, avion, piranas, taran...        0  \n",
       "652  [pasajeros, vuelo, united, militares, greengra...        0  "
      ]
     },
     "execution_count": 17,
     "metadata": {},
     "output_type": "execute_result"
    }
   ],
   "source": [
    "df[df[\"cluster\"] == 0]"
   ]
  },
  {
   "cell_type": "code",
   "execution_count": null,
   "metadata": {
    "collapsed": true
   },
   "outputs": [],
   "source": []
  }
 ],
 "metadata": {
  "kernelspec": {
   "display_name": "workshop-nlp",
   "language": "python",
   "name": "workshop-nlp"
  },
  "language_info": {
   "codemirror_mode": {
    "name": "ipython",
    "version": 2
   },
   "file_extension": ".py",
   "mimetype": "text/x-python",
   "name": "python",
   "nbconvert_exporter": "python",
   "pygments_lexer": "ipython2",
   "version": "2.7.12"
  }
 },
 "nbformat": 4,
 "nbformat_minor": 1
}
